{
 "cells": [
  {
   "cell_type": "code",
   "execution_count": null,
   "metadata": {
    "collapsed": true
   },
   "outputs": [],
   "source": [
    "\"\"\"\n",
    "    \n",
    "    Project description:\n",
    "        \n",
    "        Use K-means clustering algorithm to find hidden relationships within the data. Using teaching hospitals and applicable manufacturer and GPOs to find hidden connections. \n",
    "        \n",
    "\"\"\"\n",
    "import numpy                   as np\n",
    "import matplotlib.pyplot       as plt\n",
    "import time\n",
    "from sklearn.preprocessing     import Imputer\n",
    "from sklearn.linear_model      import LogisticRegression\n",
    "from sklearn.model_selection   import train_test_split\n",
    "from sklearn.metrics           import accuracy_score\n",
    "from sklearn                   import preprocessing\n",
    "from sklearn.cluster           import KMeans\n",
    "from sklearn                   import metrics\n",
    "from scipy.spatial.distance    import cdist\n",
    "from sklearn.metrics           import silhouette_samples, silhouette_score\n",
    "from itertools                 import combinations\n",
    "\n",
    "\n",
    "\"\"\"\n",
    "    Preprocessing work, we need to use get_dummies here to work with Categorical data.\n",
    "\"\"\"\n",
    "teaching_hospital_id      = pd.get_dummies(df['teaching_hospital_id'])\n",
    "app_man_and_gpo           = pd.get_dummies(df['amog_id'])\n",
    "total_payment             = df['total_amount_of_payment_usdollars']\n",
    "qf3_min                   = qf3.min()\n",
    "qf3_max                   = qf3.max()\n",
    "qf3                      -= qf3_min\n",
    "qf3                      /= qf3_max\n",
    "frames                    = [qf1, qf2, qf3]\n",
    "X                         = pd.concat(frames, axis=1)"
   ]
  },
  {
   "cell_type": "code",
   "execution_count": null,
   "metadata": {
    "collapsed": true
   },
   "outputs": [],
   "source": [
    "\"\"\"\n",
    "    We want to use the elbow method here so that we can have a good understanding of how many clusters we should create.\n",
    "\"\"\"\n",
    "distortions = []\n",
    "K = range(2,50)\n",
    "\n",
    "for clusters in K:\n",
    "    start = time.time()\n",
    "    \n",
    "    k_means = KMeans(n_clusters=clusters)\n",
    "    k_means.fit(X)\n",
    "    \n",
    "    distortions.append( sum(np.min(cdist(X, k_means.cluster_centers_, 'euclidean'), axis=1)) / X.shape[0])  \n",
    "    \n",
    "    end = time.time()\n",
    "    print(\"Process took... \" + str(end-start) + \" seconds!\")\n",
    "\n",
    "    \n",
    "\"\"\"\n",
    "    Plot the elbow points \n",
    "\"\"\"\n",
    "plt.plot(K, distortions, 'bx-')\n",
    "plt.xlabel('k')\n",
    "plt.ylabel('Distortion')\n",
    "plt.title('The Elbow Method showing the optimal k')\n",
    "plt.show()    "
   ]
  },
  {
   "cell_type": "code",
   "execution_count": null,
   "metadata": {
    "collapsed": true
   },
   "outputs": [],
   "source": [
    "\"\"\"\n",
    "    Calculating the processing time for each cluster and viewings the results in CSV format.\n",
    "\"\"\"\n",
    "\n",
    "start = time.time()\n",
    "\n",
    "num_clusters   = 20\n",
    "k_means        = KMeans(n_clusters=num_clusters)\n",
    "k_means.fit(X)\n",
    "\n",
    "end            = time.time()\n",
    "\n",
    "\n",
    "cluster_count  = [0] * num_clusters\n",
    "for row in k_means.labels_:\n",
    "    cluster_count[row]+=1\n",
    "    \n",
    "for ind,cluster in enumerate(cluster_count):\n",
    "    print(str(ind) + \" \" + str(cluster))\n",
    "    \n",
    "print(\"Process took... \" + str(end-start) + \" seconds!\")\n",
    "df['kmeans'] = k_means.labels_\n",
    "df.to_csv(\"all.csv\",index=False)"
   ]
  }
 ],
 "metadata": {
  "kernelspec": {
   "display_name": "Python 3",
   "language": "python",
   "name": "python3"
  },
  "language_info": {
   "codemirror_mode": {
    "name": "ipython",
    "version": 3
   },
   "file_extension": ".py",
   "mimetype": "text/x-python",
   "name": "python",
   "nbconvert_exporter": "python",
   "pygments_lexer": "ipython3",
   "version": "3.6.2"
  }
 },
 "nbformat": 4,
 "nbformat_minor": 2
}
